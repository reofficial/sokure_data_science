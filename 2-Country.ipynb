{
 "cells": [
  {
   "cell_type": "code",
   "execution_count": 1,
   "metadata": {},
   "outputs": [],
   "source": [
    "import pandas as pd\n",
    "\n",
    "df = pd.read_pickle('sokureplays.pkl')\n",
    "characters = ['aya', 'youmu', 'iku', 'reimu', 'reisen', 'remilia', 'marisa',\n",
    "       'suika', 'tenshi', 'yuyuko', 'komachi', 'suwako', 'sakuya',\n",
    "       'utsuho', 'meiling', 'yukari', 'patchouli', 'alice', 'cirno',\n",
    "       'sanae']"
   ]
  },
  {
   "cell_type": "code",
   "execution_count": null,
   "metadata": {},
   "outputs": [],
   "source": [
    "df_no_mirror_matches = df.query(\"server_character != client_character\")\n",
    "df_mirror_matches = df.query(\"server_character == client_character\")\n",
    "df_mirror_matches['server_character'].value_counts()"
   ]
  },
  {
   "cell_type": "code",
   "execution_count": 11,
   "metadata": {},
   "outputs": [
    {
     "data": {
      "text/plain": [
       "129"
      ]
     },
     "execution_count": 11,
     "metadata": {},
     "output_type": "execute_result"
    }
   ],
   "source": [
    "#unique countries\n",
    "list_countries = list(pd.concat([df['server_country'], df['client_country']]).unique())\n",
    "len(list_countries)"
   ]
  },
  {
   "cell_type": "code",
   "execution_count": 103,
   "metadata": {},
   "outputs": [
    {
     "name": "stdout",
     "output_type": "stream",
     "text": [
      "country it has 4033 wins over 8679 games\n"
     ]
    },
    {
     "name": "stderr",
     "output_type": "stream",
     "text": [
      "C:\\Users\\RE\\AppData\\Local\\Temp\\ipykernel_22328\\3959025669.py:10: FutureWarning: The behavior of DataFrame concatenation with empty or all-NA entries is deprecated. In a future version, this will no longer exclude empty or all-NA columns when determining the result dtypes. To retain the old behavior, exclude the relevant entries before the concat operation.\n",
      "  country_wr = country_wr._append({'Country': country, 'Total Wins': wins, 'Total Games': games, 'WR': wins/games * 100}, ignore_index=True)\n"
     ]
    },
    {
     "name": "stdout",
     "output_type": "stream",
     "text": [
      "country cl has 48353 wins over 79846 games\n",
      "country  has 238809 wins over 552833 games\n",
      "country us has 249306 wins over 496917 games\n",
      "country ru has 93583 wins over 181393 games\n",
      "country ua has 33452 wins over 63220 games\n",
      "country pt has 8276 wins over 18896 games\n",
      "country my has 9185 wins over 14909 games\n",
      "country fi has 5588 wins over 11523 games\n",
      "country fr has 80145 wins over 154414 games\n",
      "country ca has 50942 wins over 96783 games\n",
      "country de has 39938 wins over 78032 games\n",
      "country rs has 5489 wins over 10681 games\n",
      "country sg has 15167 wins over 27065 games\n",
      "country mx has 41281 wins over 83107 games\n",
      "country nl has 26393 wins over 39391 games\n",
      "country ar has 70183 wins over 128452 games\n",
      "country lv has 3088 wins over 6250 games\n",
      "country ma has 14749 wins over 22602 games\n",
      "country jp has 40827 wins over 55895 games\n",
      "country se has 9707 wins over 15077 games\n",
      "country gb has 27258 wins over 52774 games\n",
      "country pl has 22807 wins over 44663 games\n",
      "country kr has 14890 wins over 24302 games\n",
      "country cr has 6393 wins over 12791 games\n",
      "country br has 59804 wins over 120527 games\n",
      "country es has 8631 wins over 17085 games\n",
      "country co has 20604 wins over 37004 games\n",
      "country tw has 20267 wins over 30475 games\n",
      "country uy has 2787 wins over 5498 games\n",
      "country at has 302 wins over 829 games\n",
      "country ph has 18025 wins over 44542 games\n",
      "country nz has 3331 wins over 5113 games\n",
      "country th has 1078 wins over 2816 games\n",
      "country kz has 515 wins over 2403 games\n",
      "country hk has 6833 wins over 10620 games\n",
      "country ie has 1272 wins over 2652 games\n",
      "country ve has 14104 wins over 29722 games\n",
      "country vn has 18405 wins over 38359 games\n",
      "country il has 1979 wins over 4212 games\n",
      "country id has 5675 wins over 13455 games\n",
      "country au has 6594 wins over 15243 games\n",
      "country ro has 2089 wins over 4284 games\n",
      "country by has 2546 wins over 6945 games\n",
      "country cn has 29457 wins over 57274 games\n",
      "country cy has 3617 wins over 6639 games\n",
      "country cz has 1204 wins over 2434 games\n",
      "country do has 1048 wins over 5991 games\n",
      "country tr has 8203 wins over 23601 games\n",
      "country ae has 473 wins over 2007 games\n",
      "country ec has 3021 wins over 10146 games\n",
      "country hr has 269 wins over 752 games\n",
      "country ee has 32 wins over 132 games\n",
      "country gr has 446 wins over 1090 games\n",
      "country mq has 1010 wins over 1980 games\n",
      "country bn has 1 wins over 8 games\n",
      "country pe has 12634 wins over 30390 games\n",
      "country bo has 608 wins over 1666 games\n",
      "country ge has 270 wins over 605 games\n",
      "country py has 208 wins over 444 games\n",
      "country ch has 1247 wins over 4055 games\n",
      "country az has 758 wins over 1257 games\n",
      "country lt has 1258 wins over 7229 games\n",
      "country bg has 1971 wins over 2620 games\n",
      "country md has 410 wins over 656 games\n",
      "country jm has 260 wins over 942 games\n",
      "country no has 394 wins over 1083 games\n",
      "country in has 648 wins over 1293 games\n",
      "country nc has 5 wins over 61 games\n",
      "country ba has 19 wins over 137 games\n",
      "country sk has 1847 wins over 5910 games\n",
      "country gu has 261 wins over 727 games\n",
      "country eg has 2834 wins over 7853 games\n",
      "country mm has 13 wins over 48 games\n",
      "country kw has 142 wins over 351 games\n",
      "country dz has 1882 wins over 3658 games\n",
      "country mk has 96 wins over 187 games\n",
      "country ni has 52 wins over 138 games\n",
      "country uz has 124 wins over 289 games\n",
      "country ng has 3 wins over 23 games\n",
      "country sy has 332 wins over 815 games\n",
      "country sa has 376 wins over 1262 games\n",
      "country tt has 66 wins over 397 games\n",
      "country sv has 263 wins over 936 games\n",
      "country hu has 4586 wins over 10463 games\n",
      "country za has 90 wins over 209 games\n",
      "country be has 706 wins over 1500 games\n",
      "country mg has 2499 wins over 5277 games\n",
      "country dk has 120 wins over 363 games\n",
      "country jo has 107 wins over 509 games\n",
      "country sr has 2 wins over 107 games\n",
      "country ps has 27 wins over 179 games\n",
      "country mv has 297 wins over 864 games\n",
      "country me has 53 wins over 172 games\n",
      "country bb has 5 wins over 14 games\n",
      "country pa has 381 wins over 2278 games\n",
      "country gl has 0 wins over 3 games\n",
      "country gh has 193 wins over 507 games\n",
      "country mn has 0 wins over 43 games\n",
      "country tn has 115 wins over 376 games\n",
      "country pr has 58 wins over 334 games\n",
      "country gt has 231 wins over 978 games\n",
      "country bs has 40 wins over 195 games\n",
      "country im has 18 wins over 99 games\n",
      "country mo has 862 wins over 1561 games\n",
      "country mu has 148 wins over 207 games\n",
      "country al has 19 wins over 34 games\n",
      "country iq has 59 wins over 199 games\n",
      "country lk has 0 wins over 2 games\n",
      "country gf has 27 wins over 36 games\n",
      "country bd has 0 wins over 15 games\n",
      "country tc has 0 wins over 11 games\n",
      "country si has 3 wins over 9 games\n",
      "country ly has 40 wins over 96 games\n",
      "country zw has 0 wins over 2 games\n",
      "country np has 9 wins over 147 games\n",
      "country ir has 133 wins over 275 games\n",
      "country pk has 0 wins over 10 games\n",
      "country hn has 20 wins over 52 games\n",
      "country kg has 0 wins over 1 games\n",
      "country re has 1 wins over 20 games\n",
      "country lb has 3 wins over 31 games\n",
      "country is has 0 wins over 2 games\n",
      "country kh has 1 wins over 14 games\n",
      "country lc has 0 wins over 1 games\n",
      "country sd has 0 wins over 8 games\n",
      "country cd has 6 wins over 18 games\n",
      "country cu has 5 wins over 20 games\n",
      "country om has 2 wins over 16 games\n"
     ]
    }
   ],
   "source": [
    "country_wr = pd.DataFrame(columns=['Country', 'Total Wins', 'Total Games', 'WR'])\n",
    "for country in list_countries:\n",
    "    wins = df.query(f\"((server_country == '{country}' & server_rounds == 2) | (client_country == '{country}' & client_rounds == 2)) & (server_country != client_country)\")\n",
    "    wins = wins.count()\n",
    "    wins = int(wins['id'])\n",
    "    games = df.query(f\"((server_country == '{country}') | (client_country == '{country}')) & (server_country != client_country)\")\n",
    "    games = games.count()\n",
    "    games = int(games['id'])\n",
    "    print(f\"country {country} has {wins} wins over {games} games\")\n",
    "    country_wr = country_wr._append({'Country': country, 'Total Wins': wins, 'Total Games': games, 'WR': wins/games * 100}, ignore_index=True)"
   ]
  },
  {
   "cell_type": "code",
   "execution_count": 98,
   "metadata": {},
   "outputs": [
    {
     "data": {
      "text/html": [
       "<div>\n",
       "<style scoped>\n",
       "    .dataframe tbody tr th:only-of-type {\n",
       "        vertical-align: middle;\n",
       "    }\n",
       "\n",
       "    .dataframe tbody tr th {\n",
       "        vertical-align: top;\n",
       "    }\n",
       "\n",
       "    .dataframe thead th {\n",
       "        text-align: right;\n",
       "    }\n",
       "</style>\n",
       "<table border=\"1\" class=\"dataframe\">\n",
       "  <thead>\n",
       "    <tr style=\"text-align: right;\">\n",
       "      <th></th>\n",
       "      <th>Country</th>\n",
       "      <th>Total Wins</th>\n",
       "      <th>Total Games</th>\n",
       "      <th>WR</th>\n",
       "    </tr>\n",
       "  </thead>\n",
       "  <tbody>\n",
       "  </tbody>\n",
       "</table>\n",
       "</div>"
      ],
      "text/plain": [
       "Empty DataFrame\n",
       "Columns: [Country, Total Wins, Total Games, WR]\n",
       "Index: []"
      ]
     },
     "execution_count": 98,
     "metadata": {},
     "output_type": "execute_result"
    }
   ],
   "source": [
    "country_wr.query(\"Country == 'USA'\")"
   ]
  },
  {
   "cell_type": "code",
   "execution_count": 104,
   "metadata": {},
   "outputs": [],
   "source": [
    "import pycountry_convert\n"
   ]
  },
  {
   "cell_type": "code",
   "execution_count": 105,
   "metadata": {},
   "outputs": [],
   "source": [
    "def country_convert(country):\n",
    "    country = country.upper()\n",
    "    if country == '':\n",
    "        return 'Unknown'\n",
    "    return pycountry_convert.country_alpha2_to_country_name(country, cn_name_format=\"default\")"
   ]
  },
  {
   "cell_type": "code",
   "execution_count": 106,
   "metadata": {},
   "outputs": [],
   "source": [
    "country_wr['Country'] = country_wr['Country'].apply(country_convert)"
   ]
  },
  {
   "cell_type": "code",
   "execution_count": 122,
   "metadata": {},
   "outputs": [
    {
     "data": {
      "text/html": [
       "<div>\n",
       "<style scoped>\n",
       "    .dataframe tbody tr th:only-of-type {\n",
       "        vertical-align: middle;\n",
       "    }\n",
       "\n",
       "    .dataframe tbody tr th {\n",
       "        vertical-align: top;\n",
       "    }\n",
       "\n",
       "    .dataframe thead th {\n",
       "        text-align: right;\n",
       "    }\n",
       "</style>\n",
       "<table border=\"1\" class=\"dataframe\">\n",
       "  <thead>\n",
       "    <tr style=\"text-align: right;\">\n",
       "      <th></th>\n",
       "      <th>Country</th>\n",
       "      <th>Total Wins</th>\n",
       "      <th>Total Games</th>\n",
       "      <th>WR</th>\n",
       "    </tr>\n",
       "  </thead>\n",
       "  <tbody>\n",
       "    <tr>\n",
       "      <th>7</th>\n",
       "      <td>Malaysia</td>\n",
       "      <td>9185</td>\n",
       "      <td>14909</td>\n",
       "      <td>61.607083</td>\n",
       "    </tr>\n",
       "    <tr>\n",
       "      <th>13</th>\n",
       "      <td>Singapore</td>\n",
       "      <td>15167</td>\n",
       "      <td>27065</td>\n",
       "      <td>56.039165</td>\n",
       "    </tr>\n",
       "    <tr>\n",
       "      <th>38</th>\n",
       "      <td>Viet Nam</td>\n",
       "      <td>18405</td>\n",
       "      <td>38359</td>\n",
       "      <td>47.980917</td>\n",
       "    </tr>\n",
       "    <tr>\n",
       "      <th>40</th>\n",
       "      <td>Indonesia</td>\n",
       "      <td>5675</td>\n",
       "      <td>13455</td>\n",
       "      <td>42.177629</td>\n",
       "    </tr>\n",
       "    <tr>\n",
       "      <th>31</th>\n",
       "      <td>Philippines</td>\n",
       "      <td>18025</td>\n",
       "      <td>44542</td>\n",
       "      <td>40.467424</td>\n",
       "    </tr>\n",
       "    <tr>\n",
       "      <th>33</th>\n",
       "      <td>Thailand</td>\n",
       "      <td>1078</td>\n",
       "      <td>2816</td>\n",
       "      <td>38.281250</td>\n",
       "    </tr>\n",
       "  </tbody>\n",
       "</table>\n",
       "</div>"
      ],
      "text/plain": [
       "        Country Total Wins Total Games         WR\n",
       "7      Malaysia       9185       14909  61.607083\n",
       "13    Singapore      15167       27065  56.039165\n",
       "38     Viet Nam      18405       38359  47.980917\n",
       "40    Indonesia       5675       13455  42.177629\n",
       "31  Philippines      18025       44542  40.467424\n",
       "33     Thailand       1078        2816  38.281250"
      ]
     },
     "execution_count": 122,
     "metadata": {},
     "output_type": "execute_result"
    }
   ],
   "source": [
    "asd = country_wr[country_wr['Total Games'] > 50].sort_values(by='WR', ascending=False)\n",
    "asd.query(\"Country == 'Singapore' | Country == 'Malaysia'| Country == 'Philippines' | Country == 'Indonesia' | Country == 'Viet Nam' | Country == 'Thailand'\")"
   ]
  }
 ],
 "metadata": {
  "kernelspec": {
   "display_name": "Python 3",
   "language": "python",
   "name": "python3"
  },
  "language_info": {
   "codemirror_mode": {
    "name": "ipython",
    "version": 3
   },
   "file_extension": ".py",
   "mimetype": "text/x-python",
   "name": "python",
   "nbconvert_exporter": "python",
   "pygments_lexer": "ipython3",
   "version": "3.12.2"
  }
 },
 "nbformat": 4,
 "nbformat_minor": 2
}
