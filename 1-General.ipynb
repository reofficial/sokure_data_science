{
 "cells": [
  {
   "cell_type": "markdown",
   "metadata": {},
   "source": [
    "preliminary stuff"
   ]
  },
  {
   "cell_type": "code",
   "execution_count": 3,
   "metadata": {},
   "outputs": [],
   "source": [
    "import pandas as pd\n",
    "\n",
    "df = pd.read_pickle('sokureplays.pkl')\n",
    "characters = ['aya', 'youmu', 'iku', 'reimu', 'reisen', 'remilia', 'marisa',\n",
    "       'suika', 'tenshi', 'yuyuko', 'komachi', 'suwako', 'sakuya',\n",
    "       'utsuho', 'meiling', 'yukari', 'patchouli', 'alice', 'cirno',\n",
    "       'sanae']"
   ]
  },
  {
   "cell_type": "code",
   "execution_count": 26,
   "metadata": {},
   "outputs": [
    {
     "data": {
      "text/plain": [
       "id                  2163674\n",
       "server_player_id    2163674\n",
       "client_player_id    2163674\n",
       "time                2163674\n",
       "server_rounds       2163674\n",
       "client_rounds       2163674\n",
       "server_character    2163674\n",
       "client_character    2163674\n",
       "server_cards        2163674\n",
       "client_cards        2163674\n",
       "unranked            2163674\n",
       "server_nick         2163674\n",
       "client_nick         2163674\n",
       "server_country      2163674\n",
       "client_country      2163674\n",
       "dtype: int64"
      ]
     },
     "execution_count": 26,
     "metadata": {},
     "output_type": "execute_result"
    }
   ],
   "source": [
    "df.count()"
   ]
  },
  {
   "cell_type": "code",
   "execution_count": 4,
   "metadata": {},
   "outputs": [
    {
     "data": {
      "text/plain": [
       "Index(['id', 'server_player_id', 'client_player_id', 'time', 'server_rounds',\n",
       "       'client_rounds', 'server_character', 'client_character', 'server_cards',\n",
       "       'client_cards', 'unranked', 'server_nick', 'client_nick',\n",
       "       'server_country', 'client_country'],\n",
       "      dtype='object')"
      ]
     },
     "execution_count": 4,
     "metadata": {},
     "output_type": "execute_result"
    }
   ],
   "source": [
    "df.columns"
   ]
  },
  {
   "cell_type": "code",
   "execution_count": 5,
   "metadata": {},
   "outputs": [
    {
     "data": {
      "text/plain": [
       "id                  970419\n",
       "server_player_id    970419\n",
       "client_player_id    970419\n",
       "time                970419\n",
       "server_rounds       970419\n",
       "client_rounds       970419\n",
       "server_character    970419\n",
       "client_character    970419\n",
       "server_cards        970419\n",
       "client_cards        970419\n",
       "unranked            970419\n",
       "server_nick         970419\n",
       "client_nick         970419\n",
       "server_country      970419\n",
       "client_country      970419\n",
       "dtype: int64"
      ]
     },
     "execution_count": 5,
     "metadata": {},
     "output_type": "execute_result"
    }
   ],
   "source": [
    "df.query(\"client_rounds == 2\").count()"
   ]
  },
  {
   "cell_type": "markdown",
   "metadata": {},
   "source": [
    "next 2 blocks count non mirror total games and wins per char"
   ]
  },
  {
   "cell_type": "code",
   "execution_count": 107,
   "metadata": {},
   "outputs": [],
   "source": [
    "character_total_games = []\n",
    "for character in characters:\n",
    "    count = df.query(f\"(server_character == '{character}' | client_character == '{character}') & server_character != client_character\").count()\n",
    "    character_total_games.append(int(count['id']))"
   ]
  },
  {
   "cell_type": "code",
   "execution_count": 109,
   "metadata": {},
   "outputs": [],
   "source": [
    "character_total_wins = []\n",
    "for character in characters:\n",
    "    count = df.query(f\"(server_character != client_character) & ((server_rounds == 2 & server_character == '{character}') | (client_rounds == 2 & client_character == '{character}'))\").count()\n",
    "    character_total_wins.append(int(count['id']))"
   ]
  },
  {
   "cell_type": "markdown",
   "metadata": {},
   "source": [
    "prints win rate per char"
   ]
  },
  {
   "cell_type": "code",
   "execution_count": null,
   "metadata": {},
   "outputs": [],
   "source": [
    "for character in characters:\n",
    "    print(f\"{character}: {character_total_wins[characters.index(character)]}/{character_total_games[characters.index(character)]}. Win Rate: {character_total_wins[characters.index(character)] / character_total_games[characters.index(character)] * 100}%\")"
   ]
  },
  {
   "cell_type": "markdown",
   "metadata": {},
   "source": [
    "creates dataframes for mirror matches and non mirror matches"
   ]
  },
  {
   "cell_type": "code",
   "execution_count": null,
   "metadata": {},
   "outputs": [],
   "source": [
    "df_no_mirror_matches = df.query(\"server_character != client_character\")\n",
    "df_mirror_matches = df.query(\"server_character == client_character\")\n",
    "df_mirror_matches['server_character'].value_counts()"
   ]
  },
  {
   "cell_type": "markdown",
   "metadata": {},
   "source": [
    "Counts the most common server characters and client characters:"
   ]
  },
  {
   "cell_type": "code",
   "execution_count": null,
   "metadata": {},
   "outputs": [],
   "source": [
    "df['server_character'].value_counts()\n",
    "#df['client_character'].value_counts()"
   ]
  },
  {
   "cell_type": "markdown",
   "metadata": {},
   "source": [
    "build dataframes for each character"
   ]
  },
  {
   "cell_type": "code",
   "execution_count": 4,
   "metadata": {},
   "outputs": [],
   "source": [
    "character_data_frames = []\n",
    "for character in characters:\n",
    "    new_df = df.query(f\"(server_character == '{character}' | client_character == '{character}') & server_character != client_character\")\n",
    "    character_data_frames.append(new_df)"
   ]
  },
  {
   "cell_type": "markdown",
   "metadata": {},
   "source": [
    "counts how many unique players a character has (rename variables later)"
   ]
  },
  {
   "cell_type": "code",
   "execution_count": 5,
   "metadata": {},
   "outputs": [
    {
     "name": "stdout",
     "output_type": "stream",
     "text": [
      "Number of unique players for aya: 4759\n",
      "Number of unique players for youmu: 5647\n",
      "Number of unique players for iku: 4234\n",
      "Number of unique players for reimu: 5048\n",
      "Number of unique players for reisen: 5262\n",
      "Number of unique players for remilia: 5423\n",
      "Number of unique players for marisa: 5310\n",
      "Number of unique players for suika: 5313\n",
      "Number of unique players for tenshi: 4695\n",
      "Number of unique players for yuyuko: 4799\n",
      "Number of unique players for komachi: 4923\n",
      "Number of unique players for suwako: 4731\n",
      "Number of unique players for sakuya: 5981\n",
      "Number of unique players for utsuho: 5284\n",
      "Number of unique players for meiling: 5182\n",
      "Number of unique players for yukari: 4794\n",
      "Number of unique players for patchouli: 4974\n",
      "Number of unique players for alice: 4689\n",
      "Number of unique players for cirno: 4882\n",
      "Number of unique players for sanae: 4147\n"
     ]
    }
   ],
   "source": [
    "for character in characters:\n",
    "    reimu_df = character_data_frames[characters.index(character)]\n",
    "    all_players = pd.concat([reimu_df['server_nick'], reimu_df['client_nick']])\n",
    "    unique_players = all_players.unique()\n",
    "    player_list = list(unique_players)\n",
    "    print(f\"Number of unique players for {character}: {len(player_list)}\")"
   ]
  },
  {
   "cell_type": "markdown",
   "metadata": {},
   "source": [
    "checking who contributes to character's wr the most\n",
    "distinguish fix server vs client "
   ]
  },
  {
   "cell_type": "code",
   "execution_count": null,
   "metadata": {},
   "outputs": [],
   "source": [
    "char_player_df_list = []\n",
    "for character in characters:\n",
    "    print(\"doing stuff for \" + character)\n",
    "    chars_own_df = character_data_frames[characters.index(character)]\n",
    "    players_of_char = pd.concat([chars_own_df['server_nick'], chars_own_df['client_nick']])\n",
    "    unique_players = players_of_char.unique()\n",
    "    player_list = list(unique_players)\n",
    "    print(f\"Number of unique players for {character}: {len(player_list)}\")\n",
    "    \n",
    "    char_df = pd.DataFrame(columns=['Player', 'Total Wins', 'Total Games', 'WR Contribution %'])\n",
    "    i = 0\n",
    "    for player in player_list:\n",
    "        i = i+1\n",
    "        print(f\"{i}/{len(player_list)}\")\n",
    "        players_df = chars_own_df.query(f'''(server_nick == \"{player}\" & server_character == \"{character}\") | (client_nick == \"{player}\" & client_character == \"{character}\")''')\n",
    "        counted = players_df.count()\n",
    "        player_total_games = int(counted['id'])\n",
    "        player_wins = players_df.query(f'''(server_rounds == 2 & server_nick == \"{player}\") | (client_rounds == 2 & client_nick == \"{player}\")''').count()\n",
    "        player_total_wins = int(player_wins['id'])\n",
    "        char_df = char_df._append({'Player': player, 'Total Wins': player_total_wins, 'Total Games': player_total_games}, ignore_index=True)\n",
    "        \n",
    "        \n",
    "    char_df[\"WR Contribution %\"] = 0.0\n",
    "    char_global_wr = character_total_wins[characters.index(character)] / character_total_games[characters.index(character)]\n",
    "        \n",
    "    for index, row in char_df.iterrows():\n",
    "        what_if_win = character_total_wins[characters.index(character)] - row['Total Wins']\n",
    "        what_if_games = character_total_games[characters.index(character)] - row['Total Games']\n",
    "        what_if_winrate = what_if_win / what_if_games\n",
    "        char_df.at[index, \"WR Contribution %\"] = (char_global_wr - what_if_winrate) * 100\n",
    "        \n",
    "    char_df.sort_values(by='WR Contribution %', ascending=False)    \n",
    "    char_player_df_list.append(char_df)\n",
    "    "
   ]
  },
  {
   "cell_type": "code",
   "execution_count": 526,
   "metadata": {},
   "outputs": [],
   "source": [
    "#pickle the player dataframes\n",
    "for i in range(len(char_player_df_list)):\n",
    "    char_player_df_list[i].to_pickle(f'{characters[i]}.pkl')"
   ]
  },
  {
   "cell_type": "markdown",
   "metadata": {},
   "source": [
    "print wr contribution data"
   ]
  },
  {
   "cell_type": "code",
   "execution_count": 2,
   "metadata": {},
   "outputs": [
    {
     "ename": "NameError",
     "evalue": "name 'characters' is not defined",
     "output_type": "error",
     "traceback": [
      "\u001b[1;31m---------------------------------------------------------------------------\u001b[0m",
      "\u001b[1;31mNameError\u001b[0m                                 Traceback (most recent call last)",
      "Cell \u001b[1;32mIn[2], line 3\u001b[0m\n\u001b[0;32m      1\u001b[0m i \u001b[38;5;241m=\u001b[39m \u001b[38;5;241m11\u001b[39m\n\u001b[0;32m      2\u001b[0m \u001b[38;5;66;03m#2.37 at 2\u001b[39;00m\n\u001b[1;32m----> 3\u001b[0m \u001b[38;5;28mprint\u001b[39m(\u001b[38;5;124mf\u001b[39m\u001b[38;5;124m\"\u001b[39m\u001b[38;5;132;01m{\u001b[39;00m\u001b[43mcharacters\u001b[49m[i]\u001b[38;5;132;01m}\u001b[39;00m\u001b[38;5;124m\"\u001b[39m)\n\u001b[0;32m      4\u001b[0m temp \u001b[38;5;241m=\u001b[39m char_player_df_list[i]\u001b[38;5;241m.\u001b[39msort_values(by\u001b[38;5;241m=\u001b[39m\u001b[38;5;124m'\u001b[39m\u001b[38;5;124mWR Contribution \u001b[39m\u001b[38;5;124m%\u001b[39m\u001b[38;5;124m'\u001b[39m, ascending\u001b[38;5;241m=\u001b[39m\u001b[38;5;28;01mFalse\u001b[39;00m)\u001b[38;5;241m.\u001b[39mtail(\u001b[38;5;241m6\u001b[39m)\n\u001b[0;32m      5\u001b[0m temp\u001b[38;5;241m.\u001b[39mdrop(index\u001b[38;5;241m=\u001b[39mtemp\u001b[38;5;241m.\u001b[39mindex[\u001b[38;5;241m0\u001b[39m], axis\u001b[38;5;241m=\u001b[39m\u001b[38;5;241m0\u001b[39m, inplace\u001b[38;5;241m=\u001b[39m\u001b[38;5;28;01mTrue\u001b[39;00m)\n",
      "\u001b[1;31mNameError\u001b[0m: name 'characters' is not defined"
     ]
    }
   ],
   "source": [
    "i = 11\n",
    "#2.37 at 2\n",
    "print(f\"{characters[i]}\")\n",
    "temp = char_player_df_list[i].sort_values(by='WR Contribution %', ascending=False).tail(6)\n",
    "temp.drop(index=temp.index[0], axis=0, inplace=True)\n",
    "temp.style.hide()"
   ]
  },
  {
   "cell_type": "code",
   "execution_count": 522,
   "metadata": {},
   "outputs": [
    {
     "data": {
      "text/plain": [
       "id                  1028\n",
       "server_player_id    1028\n",
       "client_player_id    1028\n",
       "time                1028\n",
       "server_rounds       1028\n",
       "client_rounds       1028\n",
       "server_character    1028\n",
       "client_character    1028\n",
       "server_cards        1028\n",
       "client_cards        1028\n",
       "unranked            1028\n",
       "server_nick         1028\n",
       "client_nick         1028\n",
       "server_country      1028\n",
       "client_country      1028\n",
       "dtype: int64"
      ]
     },
     "execution_count": 522,
     "metadata": {},
     "output_type": "execute_result"
    }
   ],
   "source": [
    "df_no_mirror_matches.query(\"client_character == 'youmu' & server_nick == 'chickychan'\").count()"
   ]
  }
 ],
 "metadata": {
  "kernelspec": {
   "display_name": "Python 3",
   "language": "python",
   "name": "python3"
  },
  "language_info": {
   "codemirror_mode": {
    "name": "ipython",
    "version": 3
   },
   "file_extension": ".py",
   "mimetype": "text/x-python",
   "name": "python",
   "nbconvert_exporter": "python",
   "pygments_lexer": "ipython3",
   "version": "3.12.2"
  }
 },
 "nbformat": 4,
 "nbformat_minor": 2
}
